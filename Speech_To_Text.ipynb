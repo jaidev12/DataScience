{
 "cells": [
  {
   "cell_type": "code",
   "execution_count": 1,
   "metadata": {},
   "outputs": [
    {
     "name": "stdout",
     "output_type": "stream",
     "text": [
      "Collecting ibm_watson\n",
      "  Downloading ibm-watson-4.5.0.tar.gz (370 kB)\n",
      "Requirement already satisfied: requests<3.0,>=2.0 in c:\\users\\sayar\\anaconda3\\lib\\site-packages (from ibm_watson) (2.22.0)\n",
      "Requirement already satisfied: python_dateutil>=2.5.3 in c:\\users\\sayar\\anaconda3\\lib\\site-packages (from ibm_watson) (2.8.1)\n",
      "Collecting websocket-client==0.48.0\n",
      "  Downloading websocket_client-0.48.0-py2.py3-none-any.whl (198 kB)\n",
      "Collecting ibm_cloud_sdk_core==1.5.1\n",
      "  Downloading ibm-cloud-sdk-core-1.5.1.tar.gz (25 kB)\n",
      "Requirement already satisfied: idna<2.9,>=2.5 in c:\\users\\sayar\\anaconda3\\lib\\site-packages (from requests<3.0,>=2.0->ibm_watson) (2.8)\n",
      "Requirement already satisfied: certifi>=2017.4.17 in c:\\users\\sayar\\anaconda3\\lib\\site-packages (from requests<3.0,>=2.0->ibm_watson) (2019.11.28)\n",
      "Requirement already satisfied: chardet<3.1.0,>=3.0.2 in c:\\users\\sayar\\anaconda3\\lib\\site-packages (from requests<3.0,>=2.0->ibm_watson) (3.0.4)\n",
      "Requirement already satisfied: urllib3!=1.25.0,!=1.25.1,<1.26,>=1.21.1 in c:\\users\\sayar\\anaconda3\\lib\\site-packages (from requests<3.0,>=2.0->ibm_watson) (1.25.8)\n",
      "Requirement already satisfied: six>=1.5 in c:\\users\\sayar\\anaconda3\\lib\\site-packages (from python_dateutil>=2.5.3->ibm_watson) (1.14.0)\n",
      "Collecting PyJWT>=1.7.1\n",
      "  Downloading PyJWT-1.7.1-py2.py3-none-any.whl (18 kB)\n",
      "Building wheels for collected packages: ibm-watson, ibm-cloud-sdk-core\n",
      "  Building wheel for ibm-watson (setup.py): started\n",
      "  Building wheel for ibm-watson (setup.py): finished with status 'done'\n",
      "  Created wheel for ibm-watson: filename=ibm_watson-4.5.0-py3-none-any.whl size=364305 sha256=7d526fc38fab28125065723eb51d01de72b3017091889a92478763c597335b0d\n",
      "  Stored in directory: c:\\users\\sayar\\appdata\\local\\pip\\cache\\wheels\\d6\\c3\\2b\\baf31dba99567d020d1111e4d06788d676cd5fc02e2f3b94c1\n",
      "  Building wheel for ibm-cloud-sdk-core (setup.py): started\n",
      "  Building wheel for ibm-cloud-sdk-core (setup.py): finished with status 'done'\n",
      "  Created wheel for ibm-cloud-sdk-core: filename=ibm_cloud_sdk_core-1.5.1-py3-none-any.whl size=44493 sha256=9c03998e5184a5ff2a47afb7c7ea0d84bc06e7d164d8718a1780bd3fe5cf4ff7\n",
      "  Stored in directory: c:\\users\\sayar\\appdata\\local\\pip\\cache\\wheels\\51\\37\\f5\\0532ca77cb49d7405e309bb16e3bf3fd4488baabf0f326c63d\n",
      "Successfully built ibm-watson ibm-cloud-sdk-core\n",
      "Installing collected packages: websocket-client, PyJWT, ibm-cloud-sdk-core, ibm-watson\n",
      "Successfully installed PyJWT-1.7.1 ibm-cloud-sdk-core-1.5.1 ibm-watson-4.5.0 websocket-client-0.48.0\n"
     ]
    }
   ],
   "source": [
    "! pip install ibm_watson"
   ]
  },
  {
   "cell_type": "code",
   "execution_count": 3,
   "metadata": {},
   "outputs": [
    {
     "name": "stdout",
     "output_type": "stream",
     "text": [
      "Requirement already satisfied: ibm_cloud_sdk_core in c:\\users\\sayar\\anaconda3\\lib\\site-packages (1.5.1)\n",
      "Requirement already satisfied: python-dateutil>=2.5.3 in c:\\users\\sayar\\anaconda3\\lib\\site-packages (from ibm_cloud_sdk_core) (2.8.1)\n",
      "Requirement already satisfied: requests<3.0,>=2.0 in c:\\users\\sayar\\anaconda3\\lib\\site-packages (from ibm_cloud_sdk_core) (2.22.0)\n",
      "Requirement already satisfied: PyJWT>=1.7.1 in c:\\users\\sayar\\anaconda3\\lib\\site-packages (from ibm_cloud_sdk_core) (1.7.1)\n",
      "Requirement already satisfied: six>=1.5 in c:\\users\\sayar\\anaconda3\\lib\\site-packages (from python-dateutil>=2.5.3->ibm_cloud_sdk_core) (1.14.0)\n",
      "Requirement already satisfied: idna<2.9,>=2.5 in c:\\users\\sayar\\anaconda3\\lib\\site-packages (from requests<3.0,>=2.0->ibm_cloud_sdk_core) (2.8)\n",
      "Requirement already satisfied: urllib3!=1.25.0,!=1.25.1,<1.26,>=1.21.1 in c:\\users\\sayar\\anaconda3\\lib\\site-packages (from requests<3.0,>=2.0->ibm_cloud_sdk_core) (1.25.8)\n",
      "Requirement already satisfied: certifi>=2017.4.17 in c:\\users\\sayar\\anaconda3\\lib\\site-packages (from requests<3.0,>=2.0->ibm_cloud_sdk_core) (2019.11.28)\n",
      "Requirement already satisfied: chardet<3.1.0,>=3.0.2 in c:\\users\\sayar\\anaconda3\\lib\\site-packages (from requests<3.0,>=2.0->ibm_cloud_sdk_core) (3.0.4)\n"
     ]
    }
   ],
   "source": [
    "! pip install ibm_cloud_sdk_core"
   ]
  },
  {
   "cell_type": "code",
   "execution_count": 4,
   "metadata": {},
   "outputs": [],
   "source": [
    "from ibm_watson import SpeechToTextV1"
   ]
  },
  {
   "cell_type": "code",
   "execution_count": 6,
   "metadata": {},
   "outputs": [],
   "source": [
    "from ibm_cloud_sdk_core.authenticators import IAMAuthenticator"
   ]
  },
  {
   "cell_type": "code",
   "execution_count": 7,
   "metadata": {},
   "outputs": [],
   "source": [
    "api = IAMAuthenticator(\"eZwqyYfECRA8W8D_pVhXVpV5SfrXFawJ5BeLq3EXcXoJ\")"
   ]
  },
  {
   "cell_type": "code",
   "execution_count": 8,
   "metadata": {},
   "outputs": [],
   "source": [
    "speech_to_text = SpeechToTextV1(authenticator=api)"
   ]
  },
  {
   "cell_type": "code",
   "execution_count": 9,
   "metadata": {},
   "outputs": [],
   "source": [
    "speech_to_text.set_service_url(\"https://api.eu-gb.speech-to-text.watson.cloud.ibm.com/instances/5deaf7c3-01ab-4bc8-9e52-2a4844c8c882\")"
   ]
  },
  {
   "cell_type": "code",
   "execution_count": 12,
   "metadata": {},
   "outputs": [],
   "source": [
    "with open(\"speech_to_text.flac\",\"rb\") as audio_file:\n",
    "    result = speech_to_text.recognize(audio=audio_file,content_type=\"audio/flac\").get_result()\n",
    "    "
   ]
  },
  {
   "cell_type": "code",
   "execution_count": 14,
   "metadata": {},
   "outputs": [
    {
     "name": "stdout",
     "output_type": "stream",
     "text": [
      "{'result_index': 0, 'results': [{'final': True, 'alternatives': [{'transcript': 'a line of severe thunderstorms with several possible tornadoes is approaching Colorado on Sunday ', 'confidence': 1.0}]}]}\n"
     ]
    }
   ],
   "source": [
    "print(result)"
   ]
  },
  {
   "cell_type": "code",
   "execution_count": null,
   "metadata": {},
   "outputs": [],
   "source": []
  }
 ],
 "metadata": {
  "kernelspec": {
   "display_name": "Python 3",
   "language": "python",
   "name": "python3"
  },
  "language_info": {
   "codemirror_mode": {
    "name": "ipython",
    "version": 3
   },
   "file_extension": ".py",
   "mimetype": "text/x-python",
   "name": "python",
   "nbconvert_exporter": "python",
   "pygments_lexer": "ipython3",
   "version": "3.7.6"
  }
 },
 "nbformat": 4,
 "nbformat_minor": 4
}
